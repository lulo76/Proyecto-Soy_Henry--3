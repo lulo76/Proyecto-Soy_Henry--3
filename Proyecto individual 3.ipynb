{
 "cells": [
  {
   "cell_type": "code",
   "execution_count": 1,
   "metadata": {},
   "outputs": [],
   "source": [
    "import pandas as pd"
   ]
  },
  {
   "cell_type": "code",
   "execution_count": 17,
   "metadata": {},
   "outputs": [],
   "source": [
    "df_int = pd.read_csv('Internet_Penetracion.csv')\n",
    "df_tmllamadas = pd.read_csv('Telefonia_movil_llamadas.csv')\n",
    "df_tmminutos = pd.read_csv('Telefonia_movil_minutos.csv')\n",
    "df_portabilidad_altas = pd.read_csv('Portabilidad_Altas mensuales.csv')\n",
    "df_portabilidad_diferencia = pd.read_csv('Portabilidad_Diferencia.csv')\n",
    "df_acceso = pd.read_csv('Internet_Accesos-por-tecnologia.csv')\n",
    "df_acceso_pro = pd.read_csv('Internet_Accesos-por-tecnologia_provincia.csv')"
   ]
  },
  {
   "cell_type": "code",
   "execution_count": 3,
   "metadata": {},
   "outputs": [],
   "source": [
    "# Funcion para crear una columna con fecha que contenga año y trimestre\n",
    "\n",
    "def fecha(dataframe):\n",
    "  año = dataframe[\"Año\"]\n",
    "\n",
    "  if dataframe[\"Trimestre\"] == 1:\n",
    "    return f\"1/1/{año}\"\n",
    "\n",
    "  elif dataframe[\"Trimestre\"] == 2:\n",
    "    return f\"1/4/{año}\"\n",
    "\n",
    "  elif dataframe[\"Trimestre\"] == 3:\n",
    "    return f\"1/7/{año}\"\n",
    "\n",
    "  elif dataframe[\"Trimestre\"] == 4:\n",
    "    return f\"1/10/{año}\""
   ]
  },
  {
   "cell_type": "code",
   "execution_count": 7,
   "metadata": {},
   "outputs": [],
   "source": [
    "#df_int[\"Fecha\"] = df_int.apply(fecha,axis = 1)\n",
    "#df_int.to_csv(\"1-Penetracion_Internet.csv\", index = False)"
   ]
  },
  {
   "cell_type": "code",
   "execution_count": 10,
   "metadata": {},
   "outputs": [],
   "source": [
    "#df_tmllamadas[\"Fecha\"] = df_tmllamadas.apply(fecha,axis = 1)\n",
    "#df_tmllamadas.to_csv(\"2-Cantidad_Llamadas_Cel.csv\", index = False)"
   ]
  },
  {
   "cell_type": "code",
   "execution_count": 12,
   "metadata": {},
   "outputs": [],
   "source": [
    "#df_tmminutos[\"Fecha\"] = df_tmminutos.apply(fecha,axis = 1)\n",
    "#df_tmminutos.to_csv(\"3-Cantidad_Minutos_Cel.csv\", index = False)"
   ]
  },
  {
   "cell_type": "code",
   "execution_count": 20,
   "metadata": {},
   "outputs": [
    {
     "data": {
      "text/plain": [
       "''"
      ]
     },
     "execution_count": 20,
     "metadata": {},
     "output_type": "execute_result"
    }
   ],
   "source": [
    "#df_portabilidad_altas['Nextel'].fillna(0 ,inplace = True)\n",
    "#df_portabilidad_altas[\"Fecha\"] = df_portabilidad_altas.apply(fecha,axis = 1)\n",
    "#df_portabilidad_altas.to_csv(\"4-Portabilidad_Altas.csv\", index = False)"
   ]
  },
  {
   "cell_type": "code",
   "execution_count": 35,
   "metadata": {},
   "outputs": [],
   "source": [
    "#df_portabilidad_diferencia[\"Fecha\"] = df_acceso.apply(fecha,axis = 1)\n",
    "#df_portabilidad_diferencia.to_csv(\"5-Portabilidad_Diferencia.csv\", index = False)"
   ]
  },
  {
   "cell_type": "code",
   "execution_count": 26,
   "metadata": {},
   "outputs": [],
   "source": [
    "#df_acceso[\"Fecha\"] = df_acceso.apply(fecha,axis = 1)\n",
    "#df_acceso.to_csv(\"6-Tecnologias_Acceso.csv\", index = False)"
   ]
  },
  {
   "cell_type": "code",
   "execution_count": 27,
   "metadata": {},
   "outputs": [],
   "source": [
    "#df_acceso_pro #.info()\n",
    "#df_acceso_pro[\"Trimestre\"].replace(\"\\D\",\"\",regex=True,inplace=True)\n",
    "#df_acceso_pro[\"Año\"].replace(\"\\D\",\"\",regex=True,inplace=True)\n",
    "#df_acceso_pro = df_acceso_pro.drop(816)\n",
    "#df_acceso_pro[\"Fecha\"] = df_acceso_pro.apply(fecha,axis = 1)\n",
    "#df_acceso_pro.to_csv(\"7-Tecnologias_Acceso_Prov.csv\", index = False)"
   ]
  }
 ],
 "metadata": {
  "kernelspec": {
   "display_name": "Python 3",
   "language": "python",
   "name": "python3"
  },
  "language_info": {
   "codemirror_mode": {
    "name": "ipython",
    "version": 3
   },
   "file_extension": ".py",
   "mimetype": "text/x-python",
   "name": "python",
   "nbconvert_exporter": "python",
   "pygments_lexer": "ipython3",
   "version": "3.10.7"
  },
  "orig_nbformat": 4,
  "vscode": {
   "interpreter": {
    "hash": "0f4aad36e1a7834f44c14e84b98527cfbefef55e7a336cfec74130d804d73c8f"
   }
  }
 },
 "nbformat": 4,
 "nbformat_minor": 2
}
